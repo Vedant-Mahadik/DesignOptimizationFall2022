{
  "nbformat": 4,
  "nbformat_minor": 0,
  "metadata": {
    "colab": {
      "provenance": [],
      "authorship_tag": "ABX9TyO3hMzsySx8T1T9dmlOLVPq",
      "include_colab_link": true
    },
    "kernelspec": {
      "name": "python3",
      "display_name": "Python 3"
    },
    "language_info": {
      "name": "python"
    }
  },
  "cells": [
    {
      "cell_type": "markdown",
      "metadata": {
        "id": "view-in-github",
        "colab_type": "text"
      },
      "source": [
        "<a href=\"https://colab.research.google.com/github/Vedant-Mahadik/DesignOptimizationFall2022/blob/main/Homework03_1.ipynb\" target=\"_parent\"><img src=\"https://colab.research.google.com/assets/colab-badge.svg\" alt=\"Open In Colab\"/></a>"
      ]
    },
    {
      "cell_type": "code",
      "execution_count": 18,
      "metadata": {
        "colab": {
          "base_uri": "https://localhost:8080/",
          "height": 700
        },
        "id": "v3jxVWQX6AW7",
        "outputId": "0d839aba-8970-429f-9a07-49f935ec49b4"
      },
      "outputs": [
        {
          "output_type": "stream",
          "name": "stdout",
          "text": [
            "[1.9586587 1.6894487]\n",
            "0.0009000412\n",
            "optimized_p = 28.824099527402      measured_p = 28.1\n",
            "Error between optimuzed and measured P value = -0.7240995274020001\n",
            "optimized_p = 34.64448393461293      measured_p = 34.4\n",
            "Error between optimuzed and measured P value = -0.24448393461292994\n",
            "optimized_p = 36.452916182325396      measured_p = 36.7\n",
            "Error between optimuzed and measured P value = 0.24708381767460708\n",
            "optimized_p = 36.86706703238215      measured_p = 36.9\n",
            "Error between optimuzed and measured P value = 0.03293296761784603\n",
            "optimized_p = 36.87371655291139      measured_p = 36.8\n",
            "Error between optimuzed and measured P value = -0.07371655291139234\n",
            "optimized_p = 36.749668705752725      measured_p = 36.7\n",
            "Error between optimuzed and measured P value = -0.04966870575272253\n",
            "optimized_p = 36.39053637241673      measured_p = 36.5\n",
            "Error between optimuzed and measured P value = 0.109463627583267\n",
            "optimized_p = 35.385182946819      measured_p = 35.4\n",
            "Error between optimuzed and measured P value = 0.01481705318099813\n",
            "optimized_p = 32.9481484462425      measured_p = 32.9\n",
            "Error between optimuzed and measured P value = -0.04814844624250014\n",
            "optimized_p = 27.72955179704034      measured_p = 27.7\n",
            "Error between optimuzed and measured P value = -0.029551797040340944\n",
            "optimized_p = 17.469999884208      measured_p = 17.5\n",
            "Error between optimuzed and measured P value = 0.03000011579199935\n"
          ]
        },
        {
          "output_type": "execute_result",
          "data": {
            "text/plain": [
              "[<matplotlib.lines.Line2D at 0x7f17b11a0150>]"
            ]
          },
          "metadata": {},
          "execution_count": 18
        },
        {
          "output_type": "display_data",
          "data": {
            "text/plain": [
              "<Figure size 432x288 with 1 Axes>"
            ],
            "image/png": "[encoded data removed]"
          },
          "metadata": {
            "needs_background": "light"
          }
        }
      ],
      "source": [
        "#Homework 03\n",
        "#Problem 01 \n",
        "\n",
        "import torch as t\n",
        "from torch.autograd import Variable\n",
        "import numpy as np\n",
        "import math as m\n",
        "from matplotlib import pyplot\n",
        "import matplotlib\n",
        "import matplotlib.cm as cm\n",
        "import matplotlib.pyplot as plt\n",
        "\n",
        "x_1=np.array([0.0,0.1,0.2,0.3,0.4,0.5,0.6,0.7,0.8,0.9,1.0])\n",
        "x_2=-x_1+1\n",
        "Data_p=np.array([28.1,34.4,36.7,36.9,36.8,36.7,36.5,35.4,32.9,27.7,17.5])\n",
        "\n",
        "water_Psat = 17.469999884208\n",
        "dioxane_Psat = 28.824099527402\n",
        "\n",
        "# Gradeint Descent \n",
        "x = Variable(t.tensor([0.6, 0.4]), requires_grad=True)\n",
        "#step Size\n",
        "a = 0.001 \n",
        "for i in range(100):  \n",
        "    for i in range(0,11):        \n",
        "        loss = (((x_1[i]*t.exp(x[0]*((x[1]*x_2[i])/(x[0]*x_1[i]+x[1]*x_2[i]))**2)*water_Psat) + (x_2[i]*t.exp( x[1]*((x[0]*x_1[i])/(x[0]*x_1[i]+x[1]*x_2[i]))**2)*dioxane_Psat)) - Data_p[i])**2    \n",
        "        loss.backward()\n",
        "    x.grad.numpy()\n",
        "    with t.no_grad():\n",
        "       x -= a * x.grad       \n",
        "       x.grad.zero_()       \n",
        "print(x.data.numpy())\n",
        "print(loss.data.numpy())\n",
        "r = []\n",
        "for i in range(0,11):\n",
        "  P_optimized = ((x_1[i]*m.exp(x[0]*((x[1]*x_2[i])/(x[0]*x_1[i]+x[1]*x_2[i]))**2)*water_Psat) + (x_2[i]*m.exp( x[1]*((x[0]*x_1[i])/(x[0]*x_1[i]+x[1]*x_2[i]))**2)*dioxane_Psat))\n",
        "  print(\"optimized_p =\",P_optimized, \"     measured_p =\", Data_p[i])\n",
        "  print(\"Error between optimuzed and measured P value =\" , Data_p[i]-P_optimized)\n",
        "  r.append(P_optimized)\n",
        "plt.plot(x_1,Data_p)\n",
        "plt.plot(x_1,r)"
      ]
    },
    {
      "cell_type": "code",
      "source": [],
      "metadata": {
        "id": "QoLKNWss_dfI"
      },
      "execution_count": null,
      "outputs": []
    }
  ]
}