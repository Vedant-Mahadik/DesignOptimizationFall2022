{
  "nbformat": 4,
  "nbformat_minor": 0,
  "metadata": {
    "colab": {
      "provenance": [],
      "authorship_tag": "ABX9TyMsLE4YZtD0JOCeZiiek9qo",
      "include_colab_link": true
    },
    "kernelspec": {
      "name": "python3",
      "display_name": "Python 3"
    },
    "language_info": {
      "name": "python"
    }
  },
  "cells": [
    {
      "cell_type": "markdown",
      "metadata": {
        "id": "view-in-github",
        "colab_type": "text"
      },
      "source": [
        "<a href=\"https://colab.research.google.com/github/Vedant-Mahadik/DesignOptimizationFall2022/blob/main/Homework03_2.ipynb\" target=\"_parent\"><img src=\"https://colab.research.google.com/assets/colab-badge.svg\" alt=\"Open In Colab\"/></a>"
      ]
    },
    {
      "cell_type": "code",
      "execution_count": 17,
      "metadata": {
        "colab": {
          "base_uri": "https://localhost:8080/"
        },
        "id": "t6lEy1Nr4W2d",
        "outputId": "914ae470-a4ab-46b1-a626-2b5259ed38d4"
      },
      "outputs": [
        {
          "output_type": "stream",
          "name": "stdout",
          "text": [
            "|   iter    |  target   |    x_1    |    x_2    |\n",
            "-------------------------------------------------\n",
            "| \u001b[0m 1       \u001b[0m | \u001b[0m 0.265   \u001b[0m | \u001b[0m-0.4979  \u001b[0m | \u001b[0m 0.8813  \u001b[0m |\n",
            "| \u001b[0m 2       \u001b[0m | \u001b[0m-110.1   \u001b[0m | \u001b[0m-2.999   \u001b[0m | \u001b[0m-0.7907  \u001b[0m |\n",
            "| \u001b[0m 3       \u001b[0m | \u001b[0m-0.4933  \u001b[0m | \u001b[0m-0.3849  \u001b[0m | \u001b[0m 1.039   \u001b[0m |\n",
            "| \u001b[0m 4       \u001b[0m | \u001b[0m-0.2833  \u001b[0m | \u001b[0m 1.599   \u001b[0m | \u001b[0m-0.5696  \u001b[0m |\n",
            "| \u001b[0m 5       \u001b[0m | \u001b[0m-162.9   \u001b[0m | \u001b[0m 3.0     \u001b[0m | \u001b[0m 2.0     \u001b[0m |\n",
            "| \u001b[0m 6       \u001b[0m | \u001b[0m-47.77   \u001b[0m | \u001b[0m 0.3665  \u001b[0m | \u001b[0m-2.0     \u001b[0m |\n",
            "| \u001b[0m 7       \u001b[0m | \u001b[0m-150.9   \u001b[0m | \u001b[0m 3.0     \u001b[0m | \u001b[0m-2.0     \u001b[0m |\n",
            "| \u001b[0m 8       \u001b[0m | \u001b[0m-0.7638  \u001b[0m | \u001b[0m 0.4683  \u001b[0m | \u001b[0m-0.02769 \u001b[0m |\n",
            "| \u001b[0m 9       \u001b[0m | \u001b[0m-48.27   \u001b[0m | \u001b[0m-2.043   \u001b[0m | \u001b[0m 2.0     \u001b[0m |\n",
            "| \u001b[0m 10      \u001b[0m | \u001b[0m-2.236   \u001b[0m | \u001b[0m 1.314   \u001b[0m | \u001b[0m 0.6422  \u001b[0m |\n",
            "| \u001b[0m 11      \u001b[0m | \u001b[0m-50.26   \u001b[0m | \u001b[0m 0.5766  \u001b[0m | \u001b[0m 2.0     \u001b[0m |\n",
            "| \u001b[0m 12      \u001b[0m | \u001b[0m-52.97   \u001b[0m | \u001b[0m-1.299   \u001b[0m | \u001b[0m-2.0     \u001b[0m |\n",
            "| \u001b[0m 13      \u001b[0m | \u001b[0m-1.06    \u001b[0m | \u001b[0m-0.7025  \u001b[0m | \u001b[0m-0.5363  \u001b[0m |\n",
            "| \u001b[0m 14      \u001b[0m | \u001b[0m-7.993   \u001b[0m | \u001b[0m 2.197   \u001b[0m | \u001b[0m 0.07143 \u001b[0m |\n",
            "| \u001b[0m 15      \u001b[0m | \u001b[0m-48.19   \u001b[0m | \u001b[0m-0.8016  \u001b[0m | \u001b[0m 2.0     \u001b[0m |\n",
            "| \u001b[0m 16      \u001b[0m | \u001b[0m-1.426   \u001b[0m | \u001b[0m-1.507   \u001b[0m | \u001b[0m 0.2863  \u001b[0m |\n",
            "| \u001b[0m 17      \u001b[0m | \u001b[0m-107.6   \u001b[0m | \u001b[0m-3.0     \u001b[0m | \u001b[0m 1.181   \u001b[0m |\n",
            "| \u001b[0m 18      \u001b[0m | \u001b[0m-2.305   \u001b[0m | \u001b[0m 1.361   \u001b[0m | \u001b[0m-0.01254 \u001b[0m |\n",
            "| \u001b[0m 19      \u001b[0m | \u001b[0m 0.03573 \u001b[0m | \u001b[0m 0.4022  \u001b[0m | \u001b[0m 0.7855  \u001b[0m |\n",
            "| \u001b[0m 20      \u001b[0m | \u001b[0m 0.217   \u001b[0m | \u001b[0m 0.5131  \u001b[0m | \u001b[0m-0.8858  \u001b[0m |\n",
            "| \u001b[0m 21      \u001b[0m | \u001b[0m-1.746   \u001b[0m | \u001b[0m-0.8282  \u001b[0m | \u001b[0m 0.09644 \u001b[0m |\n",
            "| \u001b[0m 22      \u001b[0m | \u001b[0m-0.8247  \u001b[0m | \u001b[0m-1.335   \u001b[0m | \u001b[0m 0.9693  \u001b[0m |\n",
            "=================================================\n",
            "{'target': 0.2650082867644827, 'params': {'x_1': -0.4978679717845562, 'x_2': 0.8812979737686324}}\n"
          ]
        }
      ],
      "source": [
        "from bayes_opt import BayesianOptimization\n",
        "\n",
        "#Multiplying the function by -1 inorder to get the minimum value. \n",
        "\n",
        "def function(x_1, x_2):\n",
        "    return -1*((4-2.1*x_1**2+(x_1**4)/3)*x_1**2+x_1*x_2+(-4+4*x_2**2)*x_2**2)\n",
        "pbounds = {'x_1': (-3, 3), 'x_2': (-2, 2)}\n",
        "\n",
        "optimizer = BayesianOptimization(f=function,pbounds=pbounds,random_state=1)\n",
        "\n",
        "optimizer.maximize(init_points=2,n_iter=20)\n",
        "print(optimizer.max)"
      ]
    }
  ]
}