{
  "nbformat": 4,
  "nbformat_minor": 0,
  "metadata": {
    "colab": {
      "provenance": [],
      "collapsed_sections": [],
      "authorship_tag": "ABX9TyPv1BAgtEPHtKCB81tF1JTl",
      "include_colab_link": true
    },
    "kernelspec": {
      "name": "python3",
      "display_name": "Python 3"
    },
    "language_info": {
      "name": "python"
    }
  },
  "cells": [
    {
      "cell_type": "markdown",
      "metadata": {
        "id": "view-in-github",
        "colab_type": "text"
      },
      "source": [
        "<a href=\"https://colab.research.google.com/github/Vedant-Mahadik/DesignOptimizationFall2022/blob/main/NewtonsAlgorithm.ipynb\" target=\"_parent\"><img src=\"https://colab.research.google.com/assets/colab-badge.svg\" alt=\"Open In Colab\"/></a>"
      ]
    },
    {
      "cell_type": "code",
      "execution_count": 8,
      "metadata": {
        "colab": {
          "base_uri": "https://localhost:8080/",
          "height": 317
        },
        "id": "JBw2b-l64_4x",
        "outputId": "09292b84-4316-4f5e-9ad3-f4ea8b9fc9ff"
      },
      "outputs": [
        {
          "output_type": "stream",
          "name": "stdout",
          "text": [
            "[0 0]\n",
            "x1:-1.071428571428572 , x2:-0.1428571428571428, x3:0.7857142857142858\n",
            "Minimum Distance: 0.26726124191242445\n"
          ]
        },
        {
          "output_type": "display_data",
          "data": {
            "text/plain": [
              "<Figure size 432x288 with 1 Axes>"
            ],
            "image/png": "[encoded data removed]"
          },
          "metadata": {
            "needs_background": "light"
          }
        }
      ],
      "source": [
        "import numpy as np\n",
        "import matplotlib.pyplot as plt\n",
        "\n",
        "obj_lambda = lambda x: (2 - 2*x[0] - 3*x[1])**2 + x[0]**2 + (x[1]-1)**2\n",
        "def grad_var(x):\n",
        "  return np.array([10*x[0] + 12*x[1] - 8, 20*x[1] + 12*x[0] -14])\n",
        "\n",
        "eps = 1e-3\n",
        "initial_guess= np.array([0,0])\n",
        "print(initial_guess)\n",
        "counter_1 = 0\n",
        "solution_array = [initial_guess]\n",
        "initial_x = solution_array[counter_1]\n",
        "error = np.linalg.norm(grad_var(initial_x))\n",
        "step_size_a = 0.01\n",
        "\n",
        "def lineSerachFunction(x, d):\n",
        "  a = 1. # initialize step size\n",
        "\n",
        "  def phi(a,x,d):\n",
        "    return obj_lambda(x)+a*0.8*np.dot(grad_var(x),d)\n",
        "\n",
        "  while phi(a,x,d)<obj_lambda(x+a*d):\n",
        "    a = 0.5*a\n",
        "\n",
        "  return a\n",
        "\n",
        "counter_2 = 0\n",
        "err_array = [np.linalg.norm(grad_var(initial_x))]\n",
        "#print(grad_var(initial_x))\n",
        "i = [0]\n",
        "hess_matrix = ([10,12],[12,20])\n",
        "while error >= eps:\n",
        "  d = -np.matmul(np.linalg.inv(hess_matrix),grad_var(initial_x))\n",
        "  #print('this is D',d)\n",
        "  a = lineSerachFunction(initial_x, d)\n",
        "  #print('this is a', a)\n",
        "  initial_x = initial_x + d\n",
        "  #print(initial_x)\n",
        "  solution_array.append(initial_x)\n",
        "  error = np.linalg.norm(grad_var(initial_x))\n",
        "  err_array.append(error)\n",
        "  counter_2 = counter_2 + 1\n",
        "  i.append(counter_2)\n",
        "\n",
        "x1 = 1 - 2*initial_x[0] - 3*initial_x[1]\n",
        "print(f\"x1:{x1} , x2:{initial_x[0]}, x3:{initial_x[1]}\")\n",
        "print(\"Minimum Distance:\",np.sqrt((2 - 2*initial_x[0] - 3*initial_x[1])**2 + initial_x[0]**2 + (initial_x[1]-1)**2))\n",
        "plt.plot(i,err_array)\n",
        "plt.yscale('log')\n"
      ]
    }
  ]
}