{
  "nbformat": 4,
  "nbformat_minor": 0,
  "metadata": {
    "colab": {
      "provenance": [],
      "collapsed_sections": [],
      "authorship_tag": "ABX9TyMpmfNcdC3E0kre3IfSm62k",
      "include_colab_link": true
    },
    "kernelspec": {
      "name": "python3",
      "display_name": "Python 3"
    },
    "language_info": {
      "name": "python"
    }
  },
  "cells": [
    {
      "cell_type": "markdown",
      "metadata": {
        "id": "view-in-github",
        "colab_type": "text"
      },
      "source": [
        "<a href=\"https://colab.research.google.com/github/Vedant-Mahadik/DesignOptimizationFall2022/blob/main/Project01.ipynb\" target=\"_parent\"><img src=\"https://colab.research.google.com/assets/colab-badge.svg\" alt=\"Open In Colab\"/></a>"
      ]
    },
    {
      "cell_type": "code",
      "execution_count": null,
      "metadata": {
        "id": "UeqBz3GItJ2T"
      },
      "outputs": [],
      "source": [
        "# overhead\n",
        "\n",
        "import logging\n",
        "import math\n",
        "import random\n",
        "import numpy as np\n",
        "import time\n",
        "import torch as t\n",
        "import torch.nn as nn\n",
        "from torch import optim\n",
        "from torch.nn import utils\n",
        "import matplotlib.pyplot as plt\n",
        "\n",
        "logger = logging.getLogger(__name__)\n"
      ]
    },
    {
      "cell_type": "code",
      "source": [
        "# environment parameters\n",
        "\n",
        "FRAME_TIME = 0.1  # time interval (ft)\n",
        "GRAVITY_ACCEL = 9.80665  # gravity constant (g) in m/s^2\n",
        "\n",
        "BOOST_ACCEL = 13  # thrust constant\n",
        "\n",
        "# # the following parameters are not being used in the sample code\n",
        "# PLATFORM_WIDTH = 0.25  # landing platform width\n",
        "# PLATFORM_HEIGHT = 0.06  # landing platform height\n",
        "# ROTATION_ACCEL = 20  # rotation constant"
      ],
      "metadata": {
        "id": "bfibusPdtRhq"
      },
      "execution_count": null,
      "outputs": []
    },
    {
      "cell_type": "code",
      "source": [
        "# define system dynamics\n",
        "# Notes: \n",
        "# 0. You only need to modify the \"forward\" function\n",
        "# 1. All variables in \"forward\" need to be PyTorch tensors.\n",
        "# 2. All math operations in \"forward\" has to be differentiable, e.g., default PyTorch functions.\n",
        "# 3. Do not use inplace operations, e.g., x += 1. Please see the following section for an example that does not work.\n",
        "\n",
        "class Dynamics(nn.Module):\n",
        "\n",
        "    def __init__(self):\n",
        "        super(Dynamics, self).__init__()\n",
        "\n",
        "    @staticmethod\n",
        "    def forward(state, action):\n",
        "\n",
        "      "
      ],
      "metadata": {
        "id": "TrqJ_7CGxl8Q"
      },
      "execution_count": null,
      "outputs": []
    },
    {
      "cell_type": "code",
      "source": [
        "# a deterministic controller\n",
        "# Note:\n",
        "# 0. You only need to change the network architecture in \"__init__\"\n",
        "# 1. nn.Sigmoid outputs values from 0 to 1, nn.Tanh from -1 to 1\n",
        "# 2. You have all the freedom to make the network wider (by increasing \"dim_hidden\") or deeper (by adding more lines to nn.Sequential)\n",
        "# 3. Always start with something simple\n",
        "\n",
        "class Controller(nn.Module):\n",
        "\n",
        "    def __init__(self, dim_input, dim_hidden, dim_output):\n",
        "        \"\"\"\n",
        "        dim_input: # of system states\n",
        "        dim_output: # of actions\n",
        "        dim_hidden: up to you\n",
        "        \"\"\"\n",
        "        super(Controller, self).__init__()\n",
        "        self.network = nn.Sequential(\n",
        "            nn.Linear(dim_input, dim_hidden),\n",
        "            nn.Tanh(),\n",
        "            nn.Tanh(), #new layer\n",
        "            nn.Tanh(), #new layer\n",
        "            nn.Tanh(), #new layer\n",
        "            nn.Linear(dim_hidden, dim_hidden),\n",
        "            nn.Linear(dim_hidden, dim_output),\n",
        "            # You can add more layers here\n",
        "            nn.Sigmoid()\n",
        "        )\n",
        "\n",
        "    def forward(self, state):\n",
        "        action = self.network(state)\n",
        "        return action"
      ],
      "metadata": {
        "id": "271gyAqmv7cR"
      },
      "execution_count": null,
      "outputs": []
    },
    {
      "cell_type": "code",
      "source": [
        "# Now it's time to run the code!\n",
        "\n",
        "T = 100  # number of time steps\n",
        "dim_input = 2  # state space dimensions\n",
        "dim_hidden = 6  # latent dimensions\n",
        "dim_output = 1  # action space dimensions\n",
        "d = Dynamics()  # define dynamics\n",
        "c = Controller(dim_input, dim_hidden, dim_output)  # define controller\n",
        "s = Simulation(c, d, T)  # define simulation\n",
        "o = Optimize(s)  # define optimizer\n",
        "o.train(50)  # solve the optimization problem. 50 specifies the number of iterations."
      ],
      "metadata": {
        "id": "_rCjboouwTNQ"
      },
      "execution_count": null,
      "outputs": []
    }
  ]
}